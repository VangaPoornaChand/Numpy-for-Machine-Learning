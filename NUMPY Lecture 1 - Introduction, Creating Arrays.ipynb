{
 "cells": [
  {
   "cell_type": "markdown",
   "metadata": {},
   "source": [
    "# What is NUMPY?\n",
    "#### Numpy is simply a library that gives the functionality of crating arrays in the Python.\n",
    "\n",
    "        1. Numpy is a library for scientific computing.\n",
    "        2. Numpys stands for Numerical Python.\n",
    "        3. Numpy consists of Multidimensional array objects and it has collection of \n",
    "           functions/routines to process those arrays.\n",
    "        4. There are advantages of using Numpy\n",
    "           a. Takes less memory as compared to List\n",
    "           b. Processing speed of numpy array is much higher."
   ]
  },
  {
   "cell_type": "code",
   "execution_count": 1,
   "metadata": {},
   "outputs": [],
   "source": [
    "import numpy as np\n",
    "# Here we import the numpy library and generally people use np as the common allias for using numpy.\n",
    "# For this tutorial we follow np as the allias for numpy. (np - > called as allias here)"
   ]
  },
  {
   "cell_type": "markdown",
   "metadata": {},
   "source": [
    "###  As part of working with Numpy, one of the first things you will do is create Numpy arrays. The main objective of this guide is to inform you about the different tools available to create Numpy arrays.\n",
    "\n",
    "### There are three different ways to create Numpy arrays:\n",
    "\n",
    "        1. Using Numpy functions\n",
    "        2. Conversion from other Python structures like lists\n",
    "        3. Using special library functions\n",
    "        \n",
    "#### Numpy is very similar to python lists.... Elements can also be accessed by slicing or indexing also as list do..... Then Why Numpy ? \n",
    "        1. Fast\n",
    "        2. Memory Efficient\n",
    "        3. Convinient to use..."
   ]
  },
  {
   "cell_type": "markdown",
   "metadata": {},
   "source": [
    "# 1.Creating an Arrays...."
   ]
  },
  {
   "cell_type": "markdown",
   "metadata": {},
   "source": [
    "1. By default python doesn't have the Arrays Concept. Numpy is something like an addon for Python that gives the functionality of Arrays... Let's look at some Basic operation on Array after creating Array using Numpy.\n",
    "2. Creating array using array() function - This is something like manually creating the array as we pass the elements of the array maually....\n",
    "3. Creating an array using arange() function - Here the arange(10) function return an array from 0 to 9. This is not refered to be as manually creating array. We are not passing array elements directly....\n",
    "4. Creating an array using linspace() function - Here linspace(1,100,10) function returns an array starting from 1 to 100 equally divided into 10 parts....\n",
    "---------------------------------------------------------------------------------------------------------------------------\n",
    "\n",
    "5. If we need a matrix all with zeros or all with ones Numpy has functions to do that as well.\n",
    "\n",
    "        These are the most commonly used numpy functions to create an Array..."
   ]
  },
  {
   "cell_type": "code",
   "execution_count": 2,
   "metadata": {},
   "outputs": [
    {
     "name": "stdout",
     "output_type": "stream",
     "text": [
      "Array1 =  [2 4 5 6 3 5 9]\n",
      "Array2 =  [0 1 2 3 4 5 6 7 8 9]\n",
      "Array3 =  [  1.  12.  23.  34.  45.  56.  67.  78.  89. 100.]\n"
     ]
    }
   ],
   "source": [
    "Array1 = np.array([2,4,5,6,3,5,9]) # Creating array using array() function - This is something like manually creating the array as we pass the elements of the array maually....\n",
    "Array2 = np.arange(10) # Creating an array using arange() function - Here the arange(10) function return an array from 0 to 9. This is not refered to be as manually creating array. We are not passing array elements directly....\n",
    "Array3 = np.linspace(1,100,10) # Creating an array using linspace() function - Here linspace(1,100,10) function returns an array starting from 1 to 100 equally divided into 10 parts....\n",
    "print(\"Array1 = \",Array1)\n",
    "print(\"Array2 = \",Array2)\n",
    "print(\"Array3 = \",Array3)"
   ]
  },
  {
   "cell_type": "code",
   "execution_count": 3,
   "metadata": {},
   "outputs": [
    {
     "name": "stdout",
     "output_type": "stream",
     "text": [
      "Array4 =  [0. 0. 0. 0. 0. 0. 0. 0. 0. 0.]\n",
      "Array5_0 = \n",
      "[[0. 0.]\n",
      " [0. 0.]]\n",
      "Array5_1 = \n",
      "[[0. 0. 0.]\n",
      " [0. 0. 0.]\n",
      " [0. 0. 0.]]\n",
      "Array5_2 = \n",
      "[[0. 0. 0. 0. 0.]\n",
      " [0. 0. 0. 0. 0.]\n",
      " [0. 0. 0. 0. 0.]\n",
      " [0. 0. 0. 0. 0.]\n",
      " [0. 0. 0. 0. 0.]]\n"
     ]
    }
   ],
   "source": [
    "Array4 = np.zeros(10) # This Function returns a single dimnetional array (1D Array) all the elements are of zeros\n",
    "# Now How to create a  matrix of 2x2 or 3x3 or 5x5 with all the elements of zeros?\n",
    "# Answer for this Question is simple We just need to pass the desired shape as parameters for zeros() function.\n",
    "Array5_0 = np.zeros((2,2)) # This Function returns a 2x2 Matrix\n",
    "Array5_1 = np.zeros((3,3)) # This Function returns a 3x3 Matrix\n",
    "Array5_2 = np.zeros((5,5)) # This Function returns a 5x5 Matrix\n",
    "print(\"Array4 = \",Array4)\n",
    "print(\"Array5_0 = \")\n",
    "print(Array5_0)\n",
    "print(\"Array5_1 = \")\n",
    "print(Array5_1)\n",
    "print(\"Array5_2 = \")\n",
    "print(Array5_2)"
   ]
  },
  {
   "cell_type": "code",
   "execution_count": 4,
   "metadata": {
    "scrolled": true
   },
   "outputs": [
    {
     "name": "stdout",
     "output_type": "stream",
     "text": [
      "Array4 =  [1. 1. 1. 1. 1. 1. 1. 1. 1. 1.]\n",
      "Array7_0 = \n",
      "[[1. 1.]\n",
      " [1. 1.]]\n",
      "Array7_1 = \n",
      "[[1. 1. 1.]\n",
      " [1. 1. 1.]\n",
      " [1. 1. 1.]]\n",
      "Array7_2 = \n",
      "[[1. 1. 1. 1. 1.]\n",
      " [1. 1. 1. 1. 1.]\n",
      " [1. 1. 1. 1. 1.]\n",
      " [1. 1. 1. 1. 1.]\n",
      " [1. 1. 1. 1. 1.]]\n"
     ]
    }
   ],
   "source": [
    "Array6 = np.ones(10) # This Function returns a single dimnetional array (1D Array) all the elements are of ones\n",
    "# Now How to create a  matrix of 2x2 or 3x3 or 5x5 with all the elements of ones?\n",
    "# Answer for this Question is simple We just need to pass the desired shape as parameters for ones() function.\n",
    "Array7_0 = np.ones((2,2)) # This Function returns a 2x2 Matrix\n",
    "Array7_1 = np.ones((3,3)) # This Function returns a 3x3 Matrix\n",
    "Array7_2 = np.ones((5,5)) # This Function returns a 5x5 Matrix\n",
    "print(\"Array4 = \",Array6)\n",
    "print(\"Array7_0 = \")\n",
    "print(Array7_0)\n",
    "print(\"Array7_1 = \")\n",
    "print(Array7_1)\n",
    "print(\"Array7_2 = \")\n",
    "print(Array7_2)"
   ]
  },
  {
   "cell_type": "markdown",
   "metadata": {},
   "source": [
    "### The above discussed are the very common functions that are generally used by the people to create Matrices/Arrays. Here are some of the other methods/functions that are avaliable in NUMPY.\n"
   ]
  },
  {
   "cell_type": "code",
   "execution_count": 5,
   "metadata": {
    "scrolled": true
   },
   "outputs": [
    {
     "name": "stdout",
     "output_type": "stream",
     "text": [
      "Array8 = \n",
      "[[1. 1. 1. 1. 1.]\n",
      " [1. 1. 1. 1. 1.]]\n",
      "Array9 = \n",
      "[[3 3]\n",
      " [3 3]]\n",
      "Array10 = \n",
      "[[1. 0. 0.]\n",
      " [0. 1. 0.]\n",
      " [0. 0. 1.]]\n"
     ]
    }
   ],
   "source": [
    "Array8 = np.empty([2,5])# The empty function creates an array. Its initial content is random and depends on the state of the memory.\n",
    "Array9 = np.full((2,2), 3) # The full function creates a n * n array filled with the given value.\n",
    "Array10 = np.eye(3,3) # The eye function lets you create a n * n matrix with the diagonal 1s and the others 0.\n",
    "#np.identity(5) - returns Identity matrix. This function is similar to np.eye()\n",
    "print(\"Array8 = \")\n",
    "print(Array8)\n",
    "print(\"Array9 = \")\n",
    "print(Array9)\n",
    "print(\"Array10 = \")\n",
    "print(Array10)"
   ]
  },
  {
   "cell_type": "markdown",
   "metadata": {},
   "source": [
    "## We can Use some special Function to create the array/matrix as well...!!!(Using Random)\n",
    "\n",
    "-> You can also use special library functions to create arrays. For example, to create an array filled with random values between 0 and 1, use random function. This is particularly useful for problems where you need a random state to get started."
   ]
  },
  {
   "cell_type": "code",
   "execution_count": 6,
   "metadata": {},
   "outputs": [
    {
     "name": "stdout",
     "output_type": "stream",
     "text": [
      "Array11 = \n",
      "[[0.41536421 0.47622364 0.53544708]\n",
      " [0.40881882 0.30864516 0.4165657 ]\n",
      " [0.51249399 0.91305124 0.73057068]\n",
      " [0.30289751 0.57991235 0.40112587]\n",
      " [0.44958302 0.41429674 0.34722887]]\n"
     ]
    }
   ],
   "source": [
    "Array11 = np.random.random((5,3))\n",
    "print(\"Array11 = \")\n",
    "print(Array11)"
   ]
  },
  {
   "cell_type": "markdown",
   "metadata": {},
   "source": [
    "### Arrays Have properties like shape and size :\n",
    "#### 1. Array1.shape gives the shape of Array1. \n",
    "   \n",
    "####     Array1.ndim gives the number fo dimention of the given array.\n",
    "   \n",
    "       For better understanding of this shape and Dimention Concept An Example of Image is Given Below...."
   ]
  },
  {
   "cell_type": "code",
   "execution_count": 7,
   "metadata": {},
   "outputs": [
    {
     "name": "stdout",
     "output_type": "stream",
     "text": [
      "Shape of Array1 : (7,)\n",
      "Shape of Array2 : (10,)\n",
      "Shape of Array3 : (10,)\n",
      "Shape of Array4 : (10,)\n",
      "Shape of Array5_0 : (2, 2)\n",
      "Shape of Array5_1 : (3, 3)\n",
      "Shape of Array5_2 : (5, 5)\n",
      "Shape of Array6 : (10,)\n",
      "Shape of Array7_0 : (2, 2)\n",
      "Shape of Array7_1 : (3, 3)\n",
      "Shape of Array7_2 : (5, 5)\n",
      "Shape of Array8 : (2, 5)\n",
      "Shape of Array9 : (2, 2)\n",
      "Shape of Array10 : (3, 3)\n",
      "Shape of Array11 : (5, 3)\n",
      "----------------------------------------------\n",
      "Dimentions of Array1 : 1\n",
      "Dimentions of Array2 : 1\n",
      "Dimentions of Array3 : 1\n",
      "Dimentions of Array4 : 1\n",
      "Dimentions of Array5_0 : 2\n",
      "Dimentions of Array5_1 : 2\n",
      "Dimentions of Array5_2 : 2\n",
      "Dimentions of Array6 : 1\n",
      "Dimentions of Array7_0 : 2\n",
      "Dimentions of Array7_1 : 2\n",
      "Dimentions of Array7_2 : 2\n",
      "Dimentions of Array8 : 2\n",
      "Dimentions of Array9 : 2\n",
      "Dimentions of Array10 : 2\n",
      "Dimentions of Array11 : 2\n"
     ]
    }
   ],
   "source": [
    "print(\"Shape of Array1 :\",Array1.shape) \n",
    "print(\"Shape of Array2 :\",Array2.shape)\n",
    "print(\"Shape of Array3 :\",Array3.shape) \n",
    "print(\"Shape of Array4 :\",Array4.shape)\n",
    "print(\"Shape of Array5_0 :\",Array5_0.shape) \n",
    "print(\"Shape of Array5_1 :\",Array5_1.shape)\n",
    "print(\"Shape of Array5_2 :\",Array5_2.shape)\n",
    "print(\"Shape of Array6 :\",Array6.shape)\n",
    "print(\"Shape of Array7_0 :\",Array7_0.shape) \n",
    "print(\"Shape of Array7_1 :\",Array7_1.shape)\n",
    "print(\"Shape of Array7_2 :\",Array7_2.shape)\n",
    "print(\"Shape of Array8 :\",Array8.shape) \n",
    "print(\"Shape of Array9 :\",Array9.shape)\n",
    "print(\"Shape of Array10 :\",Array10.shape) \n",
    "print(\"Shape of Array11 :\",Array11.shape) \n",
    "print(\"----------------------------------------------\")\n",
    "print(\"Dimentions of Array1 :\",Array1.ndim)\n",
    "print(\"Dimentions of Array2 :\",Array2.ndim)\n",
    "print(\"Dimentions of Array3 :\",Array3.ndim)\n",
    "print(\"Dimentions of Array4 :\",Array4.ndim)\n",
    "print(\"Dimentions of Array5_0 :\",Array5_0.ndim)\n",
    "print(\"Dimentions of Array5_1 :\",Array5_1.ndim)\n",
    "print(\"Dimentions of Array5_2 :\",Array5_2.ndim)\n",
    "print(\"Dimentions of Array6 :\",Array6.ndim)\n",
    "print(\"Dimentions of Array7_0 :\",Array7_0.ndim)\n",
    "print(\"Dimentions of Array7_1 :\",Array7_1.ndim)\n",
    "print(\"Dimentions of Array7_2 :\",Array7_2.ndim)\n",
    "print(\"Dimentions of Array8 :\",Array8.ndim)\n",
    "print(\"Dimentions of Array9 :\",Array9.ndim)\n",
    "print(\"Dimentions of Array10 :\",Array10.ndim)\n",
    "print(\"Dimentions of Array11 :\",Array11.ndim)"
   ]
  },
  {
   "cell_type": "markdown",
   "metadata": {},
   "source": [
    "# Example 1 : HOW THE COMPUTER READ AN IMAGE?\n",
    "\n",
    "#### COMPUTERS CANNOT UNDERSTAND QUANTITATIVE INPUTS LIKE IMAGES,AUDIOS AND VIDEOS... SO THEY READ THE IMAGES,AUDIOS AND VIDEOS IN THE FORM OF NUMBERS....\n",
    "\n",
    "##### LET'S SEE HOW A COMPUTER READ AN IMAGE.....\n",
    "##### To read an image in python, we generally use a package called Image from PIL. But As we are going to Discuss about the opencv in future session. I would like to use opencv to read an image and then we can see how an image is represented in computers in the form of Matrices.\n",
    "\n",
    "##### If you dont understand the following code Don't Worry. Later when we see OPENCV Package it would be clear. Until then Just look at the Output for now. \n",
    "\n",
    "#### What is opencv? We can discuss about that in the later weeks. But for now, Just understand OpenCV is just simply a package for python that enables to read images,videos from the webcam. We can discuss in a greater detail in later week..."
   ]
  },
  {
   "cell_type": "code",
   "execution_count": 8,
   "metadata": {},
   "outputs": [
    {
     "name": "stdout",
     "output_type": "stream",
     "text": [
      "Type of the Image : <class 'numpy.ndarray'>\n",
      "Shape of image : (10, 8)\n",
      "Dimentions of image : 2\n"
     ]
    }
   ],
   "source": [
    "import cv2\n",
    "# cv2.imread(\"image path\",mode of reading) Here we have passed path of image and mode as GRAYSCALE mode.\n",
    "IMAGE = cv2.imread('data\\\\digit.png',cv2.IMREAD_GRAYSCALE) # This imread() method/function return an array corresponding to the input....\n",
    "print(\"Type of the Image :\",type(IMAGE))  # You can verify the type of the input image\n",
    "print(\"Shape of image :\",IMAGE.shape)\n",
    "print(\"Dimentions of image :\",IMAGE.ndim)"
   ]
  },
  {
   "cell_type": "markdown",
   "metadata": {},
   "source": [
    "### Here it shows that the image is read in array format.... and the Image shape is of 10x18 and 2 dimentions as we read in grayscale format"
   ]
  },
  {
   "cell_type": "code",
   "execution_count": 9,
   "metadata": {
    "scrolled": true
   },
   "outputs": [
    {
     "data": {
      "text/plain": [
       "array([[  0,   0,   0,   0,   0,   0,   0,   0],\n",
       "       [  0,   0,   0,  68, 245, 165,   0,   0],\n",
       "       [  0,   0,   0, 168, 149, 165,   0,   0],\n",
       "       [  0,   0, 102, 201, 102, 165,   0,   0],\n",
       "       [  0,  21, 195,  59, 102, 165,   0,   0],\n",
       "       [  0, 139, 165,   0, 102, 165,   0,   0],\n",
       "       [  0, 205, 255, 255, 255, 255, 201,   0],\n",
       "       [  0,   0,   0,   0, 102, 165,   0,   0],\n",
       "       [  0,   0,   0,   0, 102, 165,   0,   0],\n",
       "       [  0,   0,   0,   0,   0,   0,   0,   0]], dtype=uint8)"
      ]
     },
     "execution_count": 9,
     "metadata": {},
     "output_type": "execute_result"
    }
   ],
   "source": [
    "IMAGE.reshape(10,8)"
   ]
  },
  {
   "cell_type": "code",
   "execution_count": 11,
   "metadata": {
    "scrolled": true
   },
   "outputs": [
    {
     "data": {
      "image/png": "[encoded data removed]",
      "text/plain": [
       "<Figure size 432x288 with 1 Axes>"
      ]
     },
     "metadata": {},
     "output_type": "display_data"
    }
   ],
   "source": [
    "import matplotlib.pyplot as plt\n",
    "plt.imshow(IMAGE)\n",
    "plt.show()"
   ]
  },
  {
   "cell_type": "markdown",
   "metadata": {},
   "source": [
    "### Observations :\n",
    "##### From the above,\n",
    "##### Firstly we have an image of number 4. Using OPENCV we have read the image. As we know that computer reads the image as collection of numbers arranged in a format.  The image is of 10 pixels  height and 8 pixels of width. Therefore the shape of the image is (10,8) Hence the output for the line  print(\"Shape of image :\",IMAGE.shape) is (10,8). And as we read the image in GRAYSCALE format, The dimentions for that image is 2. If we have read the image in color format then the dimentions would be 3.\n",
    "\n",
    "\n",
    "### Ignore the above code if you do not understand it for now. Just focus on the output for this session.\n"
   ]
  },
  {
   "cell_type": "markdown",
   "metadata": {},
   "source": [
    "# Hope this Session helped you to understand how to create an Array in many Possible ways and how you understand about what is shape and dimentions."
   ]
  },
  {
   "cell_type": "markdown",
   "metadata": {},
   "source": [
    "## Thank you....\n",
    "##### Notebook Prepared by: V.PoornaChand.\n",
    "https://www.linkedin.com/in/poorna-chand-902642177/"
   ]
  }
 ],
 "metadata": {
  "kernelspec": {
   "display_name": "Python 3",
   "language": "python",
   "name": "python3"
  },
  "language_info": {
   "codemirror_mode": {
    "name": "ipython",
    "version": 3
   },
   "file_extension": ".py",
   "mimetype": "text/x-python",
   "name": "python",
   "nbconvert_exporter": "python",
   "pygments_lexer": "ipython3",
   "version": "3.6.5"
  }
 },
 "nbformat": 4,
 "nbformat_minor": 2
}
