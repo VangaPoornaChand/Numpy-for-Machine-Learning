{
 "cells": [
  {
   "cell_type": "code",
   "execution_count": 1,
   "metadata": {},
   "outputs": [],
   "source": [
    "import numpy as np"
   ]
  },
  {
   "cell_type": "code",
   "execution_count": 2,
   "metadata": {
    "scrolled": true
   },
   "outputs": [
    {
     "name": "stdout",
     "output_type": "stream",
     "text": [
      "[[27 23 28  9  6]\n",
      " [12 18 26  6 29]\n",
      " [ 1 12  3 20  9]] \n",
      "Dimentions : 2 \n",
      "Shape : (3, 5)\n"
     ]
    }
   ],
   "source": [
    "X = np.random.randint(0,30,(3,5)) # Creates a matrix of 3x5 randomly initialized with in the range 0 to 30...\n",
    "print(X,\"\\nDimentions :\",X.ndim,\"\\nShape :\",X.shape)"
   ]
  },
  {
   "cell_type": "markdown",
   "metadata": {},
   "source": [
    "# Content\n",
    "        1. Min, Max with and without Axis as parameter\n",
    "        2. Argmax, Argmin with and without Axis as parameter\n",
    "        3. Flatten\n",
    "        4. Mean, Standard deviation, Variance\n",
    "        5. Cumulative sum : cumsum()\n",
    "        6. Sorting"
   ]
  },
  {
   "cell_type": "code",
   "execution_count": 3,
   "metadata": {
    "scrolled": false
   },
   "outputs": [
    {
     "name": "stdout",
     "output_type": "stream",
     "text": [
      "Minimum value in the Given Matrix X : 1\n",
      "Maximum value in the Given Matrix X : 29\n",
      "Index value where the Minimum value in the Given Matrix X is Present: 10\n",
      "Index value where the Maximum value in the Given Matrix X is Present: 9\n",
      "------------------------------------------------------------------------------------------------------------------\n",
      "np.argmin() or np.argmax() functions first flatten the given multidimetnional matrix/array and then look for the \n",
      "min/max value respectively and then return the index value...\n",
      "------------------------------------------------------------------------------------------------------------------\n",
      "We have looked at the min, max function and argmin and argmax functions as well....... Now can we get the min and \n",
      "max values of individual rows and columns of the given matrix X ? The answer is YES!!!\n",
      "------------------------------------------------------------------------------------------------------------------\n",
      "Answer : We can achieve that by passing axis as the parameter value for Both the functions....\n",
      "------------------------------------------------------------------------------------------------------------------\n",
      "Minimum Values of each column in the Matrix X : [ 1 12  3  6  6]\n",
      "Minimum Values of each Row in the Matrix X : [6 6 1]\n",
      "Maximum Values of each column in the Matrix X : [27 23 28 20 29]\n",
      "Maximum Values of each Row in the Matrix X : [28 29 20]\n",
      "Index Values Where Minimum Values of each column in the Matrix X : [2 2 2 1 0]\n",
      "Index Values Where Minimum Values of each row in the Matrix X : [4 3 0]\n",
      "Index Values Where Maximum Values of each column in the Matrix X : [0 0 0 2 1]\n",
      "Index Values Where Maximum Values of each row in the Matrix X : [2 4 3]\n",
      "Flattened Matrix : [27 23 28  9  6 12 18 26  6 29  1 12  3 20  9]\n"
     ]
    }
   ],
   "source": [
    "print(\"Minimum value in the Given Matrix X :\",X.min())\n",
    "print(\"Maximum value in the Given Matrix X :\",X.max())\n",
    "print(\"Index value where the Minimum value in the Given Matrix X is Present:\",X.argmin())\n",
    "print(\"Index value where the Maximum value in the Given Matrix X is Present:\",X.argmax())\n",
    "print('''------------------------------------------------------------------------------------------------------------------\n",
    "np.argmin() or np.argmax() functions first flatten the given multidimetnional matrix/array and then look for the \n",
    "min/max value respectively and then return the index value...\n",
    "------------------------------------------------------------------------------------------------------------------\n",
    "We have looked at the min, max function and argmin and argmax functions as well....... Now can we get the min and \n",
    "max values of individual rows and columns of the given matrix X ? The answer is YES!!!\n",
    "------------------------------------------------------------------------------------------------------------------\n",
    "Answer : We can achieve that by passing axis as the parameter value for Both the functions....\n",
    "------------------------------------------------------------------------------------------------------------------''')\n",
    "print(\"Minimum Values of each column in the Matrix X :\",X.min(axis=0))\n",
    "print(\"Minimum Values of each Row in the Matrix X :\",X.min(axis=1))\n",
    "print(\"Maximum Values of each column in the Matrix X :\",X.max(axis=0))\n",
    "print(\"Maximum Values of each Row in the Matrix X :\",X.max(axis=1))\n",
    "print(\"Index Values Where Minimum Values of each column in the Matrix X :\",X.argmin(axis=0))\n",
    "print(\"Index Values Where Minimum Values of each row in the Matrix X :\",X.argmin(axis=1))\n",
    "print(\"Index Values Where Maximum Values of each column in the Matrix X :\",X.argmax(axis=0))\n",
    "print(\"Index Values Where Maximum Values of each row in the Matrix X :\",X.argmax(axis=1))\n",
    "print(\"Flattened Matrix :\",X.ravel())"
   ]
  },
  {
   "cell_type": "code",
   "execution_count": 4,
   "metadata": {},
   "outputs": [
    {
     "name": "stdout",
     "output_type": "stream",
     "text": [
      "Mean of the Matrix X : 15.266666666666667\n",
      "SD of the Matrix X : 9.377040518675862\n",
      "Variance of Matrix X : 87.92888888888888\n",
      "------------------------------------------------------------------------------------------------------------------\n",
      "---> To get individual row/column mean,std,var we can pass axis as the parameter here too.........\n",
      "------------------------------------------------------------------------------------------------------------------\n",
      "Individual Mean's of each column of the Matrix X : [13.33333333 17.66666667 19.         11.66666667 14.66666667]\n",
      "Individual SD's of each column of the Matrix X : [10.65624491  4.49691252 11.34313302  6.01849003 10.20892855]\n",
      "Individual variances of each column of Matrix X : [113.55555556  20.22222222 128.66666667  36.22222222 104.22222222]\n",
      "------------------------------------------------------------------------------------------------------------------\n",
      "Individual Mean's of each row of the Matrix X : [18.6 18.2  9. ]\n",
      "Individual SD's of each row of the Matrix X : [9.26498786 8.5416626  6.78232998]\n",
      "Individual variances of each row of Matrix X : [85.84 72.96 46.  ]\n",
      "------------------------------------------------------------------------------------------------------------------\n"
     ]
    }
   ],
   "source": [
    "print(\"Mean of the Matrix X :\",X.mean())\n",
    "print(\"SD of the Matrix X :\",X.std())\n",
    "print(\"Variance of Matrix X :\",X.var())\n",
    "print(\"------------------------------------------------------------------------------------------------------------------\")\n",
    "print(\"---> To get individual row/column mean,std,var we can pass axis as the parameter here too.........\")\n",
    "print(\"------------------------------------------------------------------------------------------------------------------\")\n",
    "print(\"Individual Mean's of each column of the Matrix X :\",X.mean(axis = 0))\n",
    "print(\"Individual SD's of each column of the Matrix X :\",X.std(axis = 0))\n",
    "print(\"Individual variances of each column of Matrix X :\",X.var(axis = 0))\n",
    "print(\"------------------------------------------------------------------------------------------------------------------\")\n",
    "print(\"Individual Mean's of each row of the Matrix X :\",X.mean(axis = 1))\n",
    "print(\"Individual SD's of each row of the Matrix X :\",X.std(axis = 1))\n",
    "print(\"Individual variances of each row of Matrix X :\",X.var(axis = 1))\n",
    "print(\"------------------------------------------------------------------------------------------------------------------\")"
   ]
  },
  {
   "cell_type": "code",
   "execution_count": 5,
   "metadata": {},
   "outputs": [
    {
     "name": "stdout",
     "output_type": "stream",
     "text": [
      "Cumulative sum of the given matrix X : [ 27  50  78  87  93 105 123 149 155 184 185 197 200 220 229]\n"
     ]
    }
   ],
   "source": [
    "print(\"Cumulative sum of the given matrix X :\",X.cumsum()) # np.cumsum(X) is also valid..."
   ]
  },
  {
   "cell_type": "code",
   "execution_count": 6,
   "metadata": {
    "scrolled": true
   },
   "outputs": [
    {
     "name": "stdout",
     "output_type": "stream",
     "text": [
      "Sorted Matrix/Array X : This will sort the each row elements... By passing axis as parameter we can decide sort order...\n",
      "[[ 6  9 23 27 28]\n",
      " [ 6 12 18 26 29]\n",
      " [ 1  3  9 12 20]]\n",
      "----------------------\n",
      "[[ 1  3  9 12 20]\n",
      " [ 6  9 18 26 28]\n",
      " [ 6 12 23 27 29]]\n"
     ]
    }
   ],
   "source": [
    "print(\"Sorted Matrix/Array X : This will sort the each row elements... By passing axis as parameter we can decide sort order...\")\n",
    "X.sort(axis=1) # Row wise sorting\n",
    "print(X)\n",
    "print('----------------------')\n",
    "X.sort(axis=0) # Column wise sorting\n",
    "print(X)"
   ]
  },
  {
   "cell_type": "markdown",
   "metadata": {},
   "source": [
    "### This was the end of Numpy Lectures for Machine Learning !!!\n",
    "### The concepts that we have discussed till now are quite enough for starting with machine learning....Any Missed topics or further topics will be discussed here soon....\n",
    "### Hope this session was helpful..... Thank you\n",
    "\n",
    "##### Notebook Prepared By : V.PoornaChand. \n",
    "https://www.linkedin.com/in/poorna-chand-902642177/"
   ]
  }
 ],
 "metadata": {
  "kernelspec": {
   "display_name": "Python 3",
   "language": "python",
   "name": "python3"
  },
  "language_info": {
   "codemirror_mode": {
    "name": "ipython",
    "version": 3
   },
   "file_extension": ".py",
   "mimetype": "text/x-python",
   "name": "python",
   "nbconvert_exporter": "python",
   "pygments_lexer": "ipython3",
   "version": "3.6.5"
  }
 },
 "nbformat": 4,
 "nbformat_minor": 2
}
