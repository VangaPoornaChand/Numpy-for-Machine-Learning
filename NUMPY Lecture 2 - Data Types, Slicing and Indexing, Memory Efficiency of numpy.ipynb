{
 "cells": [
  {
   "cell_type": "code",
   "execution_count": 1,
   "metadata": {},
   "outputs": [],
   "source": [
    "import numpy as np"
   ]
  },
  {
   "cell_type": "markdown",
   "metadata": {},
   "source": [
    "## Datatypes"
   ]
  },
  {
   "cell_type": "code",
   "execution_count": 2,
   "metadata": {},
   "outputs": [
    {
     "name": "stdout",
     "output_type": "stream",
     "text": [
      "Array1 =  [0 1 2 3 4 5 6 7 8 9]\n",
      "Array2 =  [3. 3. 3. 3. 3. 3. 3. 3. 3. 3.]\n",
      "Array3 =  ['Anil' 'Mike' 'Ram']\n"
     ]
    }
   ],
   "source": [
    "Array1 = np.arange(10)\n",
    "Array2 = np.ones(10)*3\n",
    "Array3 = np.array([\"Anil\",\"Mike\",\"Ram\"])\n",
    "print(\"Array1 = \",Array1)\n",
    "print(\"Array2 = \",Array2)\n",
    "print(\"Array3 = \",Array3)"
   ]
  },
  {
   "cell_type": "markdown",
   "metadata": {},
   "source": [
    "##### We have created 2 arrays Array1 and Array2. What are the differences you notice ?\n",
    "##### Is there any difference between them. They both have 10 Elements. But you might have noticed in Array1 there is no dot(.) after the digit but in Array2 you have Numbers followed by a dot(.). Why?\n",
    "##### Well, This is because of the Data type of the element present in an array. We can say/conclude that in Array1 we have all the elements are integers but were as in Array2 All the elements of float datatype... Let's Verify"
   ]
  },
  {
   "cell_type": "code",
   "execution_count": 3,
   "metadata": {},
   "outputs": [
    {
     "name": "stdout",
     "output_type": "stream",
     "text": [
      "Datatype of Array1 =  int32\n",
      "Datatype of Array2 =  float64\n",
      "Datatype of Array3 =  <U4\n"
     ]
    }
   ],
   "source": [
    "print(\"Datatype of Array1 = \",Array1.dtype)\n",
    "print(\"Datatype of Array2 = \",Array2.dtype)\n",
    "print(\"Datatype of Array3 = \",Array3.dtype)"
   ]
  },
  {
   "cell_type": "markdown",
   "metadata": {},
   "source": [
    "#### Therefore, The datatype of an array is determined by the type of elements that it holds..."
   ]
  },
  {
   "cell_type": "markdown",
   "metadata": {},
   "source": [
    "## Indexing and Slicing\n",
    "\n",
    "#### Similar to python lists here Arrays can also accessed by indexing and slicing operations can also be performed"
   ]
  },
  {
   "cell_type": "code",
   "execution_count": 4,
   "metadata": {},
   "outputs": [
    {
     "name": "stdout",
     "output_type": "stream",
     "text": [
      "1 4 9 ['Mike']\n"
     ]
    }
   ],
   "source": [
    "print(Array1[1],Array1[4],Array1[-1],Array3[1:2])  # This is the basic operation hope there is no need of explination..."
   ]
  },
  {
   "cell_type": "markdown",
   "metadata": {},
   "source": [
    "## SOME BASIC OPERATIONS"
   ]
  },
  {
   "cell_type": "code",
   "execution_count": 5,
   "metadata": {},
   "outputs": [
    {
     "name": "stdout",
     "output_type": "stream",
     "text": [
      "Array1 + 4 : [ 4  5  6  7  8  9 10 11 12 13]\n",
      "Array1 / 2 : [0.  0.5 1.  1.5 2.  2.5 3.  3.5 4.  4.5]\n",
      "Array1 ** 2 : [ 0  1  4  9 16 25 36 49 64 81]\n"
     ]
    }
   ],
   "source": [
    "print(\"Array1 + 4 :\",Array1+4)   # 4 will be added to every element of array....\n",
    "print(\"Array1 / 2 :\",Array1/2)   # Every element of Array1 is divided by 2....\n",
    "print(\"Array1 ** 2 :\",Array1**2)  # Every element is squared..."
   ]
  },
  {
   "cell_type": "markdown",
   "metadata": {},
   "source": [
    "## Array Multiplication....\n",
    "### In this case each element in one array is multiplied with the corresponding element of another array..."
   ]
  },
  {
   "cell_type": "code",
   "execution_count": 6,
   "metadata": {},
   "outputs": [
    {
     "data": {
      "text/plain": [
       "array([ 0.,  3.,  6.,  9., 12., 15., 18., 21., 24., 27.])"
      ]
     },
     "execution_count": 6,
     "metadata": {},
     "output_type": "execute_result"
    }
   ],
   "source": [
    "Array1 * Array2"
   ]
  },
  {
   "cell_type": "markdown",
   "metadata": {},
   "source": [
    "## Matrix Multiplication....\n",
    "### It is similar to the Multiplication operation of two matrices....\n",
    "#### Normal Array1 * Array2 would result in error if no. of rows and no. of colomns not matched....."
   ]
  },
  {
   "cell_type": "code",
   "execution_count": 7,
   "metadata": {
    "scrolled": true
   },
   "outputs": [
    {
     "name": "stdout",
     "output_type": "stream",
     "text": [
      "Matrix Multiplication :\n",
      "[[3. 3. 3.]\n",
      " [3. 3. 3.]\n",
      " [3. 3. 3.]]\n",
      "Array Multiplication :\n",
      "[[1. 1. 1.]\n",
      " [1. 1. 1.]\n",
      " [1. 1. 1.]]\n"
     ]
    }
   ],
   "source": [
    "Array3 = np.ones((3,3))\n",
    "Array4 = np.ones((3,3))\n",
    "print(\"Matrix Multiplication :\")\n",
    "print(Array3.dot(Array4))\n",
    "print(\"Array Multiplication :\")\n",
    "print(Array3 * Array4)"
   ]
  },
  {
   "cell_type": "markdown",
   "metadata": {},
   "source": [
    "### Comparing Two Matrices/Arrays..."
   ]
  },
  {
   "cell_type": "code",
   "execution_count": 8,
   "metadata": {
    "scrolled": true
   },
   "outputs": [
    {
     "name": "stdout",
     "output_type": "stream",
     "text": [
      "If shape is same then preforms element wise comparision... : [False False False  True False False False False False False]\n",
      "If shape is not same then Rises a warning and Finally Return false : False\n"
     ]
    },
    {
     "name": "stderr",
     "output_type": "stream",
     "text": [
      "C:\\Anaconda\\lib\\site-packages\\ipykernel_launcher.py:2: DeprecationWarning: elementwise == comparison failed; this will raise an error in the future.\n",
      "  \n"
     ]
    }
   ],
   "source": [
    "print(\"If shape is same then preforms element wise comparision... :\",Array1 == Array2)\n",
    "print(\"If shape is not same then Rises a warning and Finally Return false :\",Array2 == Array3)"
   ]
  },
  {
   "cell_type": "markdown",
   "metadata": {},
   "source": [
    "### min, max, sum, argmin, argmax, Statistical computations, flattening, reshaping and Sorting Operations...."
   ]
  },
  {
   "cell_type": "code",
   "execution_count": 9,
   "metadata": {},
   "outputs": [
    {
     "name": "stdout",
     "output_type": "stream",
     "text": [
      "[13.06962516 35.23155184 67.77641609 49.31664855 17.93325033 67.75611982\n",
      " 43.59391649]\n"
     ]
    }
   ],
   "source": [
    "TempArray = np.random.random(7)*100\n",
    "print(TempArray)"
   ]
  },
  {
   "cell_type": "code",
   "execution_count": 10,
   "metadata": {},
   "outputs": [
    {
     "name": "stdout",
     "output_type": "stream",
     "text": [
      "Maximum Element 67.77641609097024\n",
      "Minimum Element 13.06962515864214\n",
      "Sum of Elements 294.6775282786558\n",
      "The index, Where the Maximum element present : 2\n",
      "The index, Where the Minimum element present : 0\n",
      "Mean of Array Elements : 42.096789754093685\n",
      "Standard deviation of Array Elements : 20.162895877440935\n"
     ]
    }
   ],
   "source": [
    "print(\"Maximum Element\",TempArray.max())\n",
    "print(\"Minimum Element\",TempArray.min())\n",
    "print(\"Sum of Elements\",TempArray.sum())\n",
    "print(\"The index, Where the Maximum element present :\",TempArray.argmax())\n",
    "print(\"The index, Where the Minimum element present :\",TempArray.argmin())\n",
    "print(\"Mean of Array Elements :\",TempArray.mean())\n",
    "print(\"Standard deviation of Array Elements :\",TempArray.std())"
   ]
  },
  {
   "cell_type": "code",
   "execution_count": 11,
   "metadata": {
    "scrolled": true
   },
   "outputs": [
    {
     "name": "stdout",
     "output_type": "stream",
     "text": [
      "[[0.789761   0.81465674 0.13914572]\n",
      " [0.01130502 0.45904402 0.39262605]\n",
      " [0.11001594 0.25510911 0.24294565]\n",
      " [0.80733889 0.01040291 0.55290232]\n",
      " [0.46651245 0.87861638 0.03788256]]\n"
     ]
    }
   ],
   "source": [
    "TempArray2 = np.random.random((5,3))\n",
    "print(TempArray2)"
   ]
  },
  {
   "cell_type": "markdown",
   "metadata": {},
   "source": [
    "### Rows and columns sum"
   ]
  },
  {
   "cell_type": "code",
   "execution_count": 12,
   "metadata": {},
   "outputs": [
    {
     "name": "stdout",
     "output_type": "stream",
     "text": [
      "Sum of elements in Column Wise =  [2.18493329 2.41782916 1.3655023 ]\n",
      "Sum of elements in Row Wise =  [1.74356346 0.86297509 0.60807069 1.37064412 1.38301138]\n"
     ]
    }
   ],
   "source": [
    "print(\"Sum of elements in Column Wise = \",TempArray2.sum(axis=0))  # Returns Sum of elements in columns (In This Case)-> E11 + E21 + E31 + E41 + E51 and so on for  2nd column and 3rd column.......[EXX = Element[Row][Column]]\n",
    "print(\"Sum of elements in Row Wise = \",TempArray2.sum(axis=1))"
   ]
  },
  {
   "cell_type": "markdown",
   "metadata": {},
   "source": [
    "### The above matix is of size 5x3. Flattening simply mean to unroll the matrix in to a vector..... The example will make you clear...."
   ]
  },
  {
   "cell_type": "code",
   "execution_count": 13,
   "metadata": {},
   "outputs": [
    {
     "data": {
      "text/plain": [
       "array([0.789761  , 0.81465674, 0.13914572, 0.01130502, 0.45904402,\n",
       "       0.39262605, 0.11001594, 0.25510911, 0.24294565, 0.80733889,\n",
       "       0.01040291, 0.55290232, 0.46651245, 0.87861638, 0.03788256])"
      ]
     },
     "execution_count": 13,
     "metadata": {},
     "output_type": "execute_result"
    }
   ],
   "source": [
    "TempArray2.ravel() # By this the given TempArray2 Matrix is turned into a vector...."
   ]
  },
  {
   "cell_type": "markdown",
   "metadata": {},
   "source": [
    "### Reshaping simply mean changing the order of no. of rows and no. of columns.... The result will also be a matrix with the given/passed shape....."
   ]
  },
  {
   "cell_type": "code",
   "execution_count": 14,
   "metadata": {
    "scrolled": false
   },
   "outputs": [
    {
     "name": "stdout",
     "output_type": "stream",
     "text": [
      "Given (5,3)Matrix turned into (3,5) :\n",
      "[[0.789761   0.81465674 0.13914572 0.01130502 0.45904402]\n",
      " [0.39262605 0.11001594 0.25510911 0.24294565 0.80733889]\n",
      " [0.01040291 0.55290232 0.46651245 0.87861638 0.03788256]]\n",
      "\n",
      "\n",
      "Given (5,3)Matrix turned into (1,15) :\n",
      "[[0.789761   0.81465674 0.13914572 0.01130502 0.45904402 0.39262605\n",
      "  0.11001594 0.25510911 0.24294565 0.80733889 0.01040291 0.55290232\n",
      "  0.46651245 0.87861638 0.03788256]]\n",
      "\n",
      "\n",
      "Given (5,3)Matrix turned into (15,1) :\n",
      "[[0.789761  ]\n",
      " [0.81465674]\n",
      " [0.13914572]\n",
      " [0.01130502]\n",
      " [0.45904402]\n",
      " [0.39262605]\n",
      " [0.11001594]\n",
      " [0.25510911]\n",
      " [0.24294565]\n",
      " [0.80733889]\n",
      " [0.01040291]\n",
      " [0.55290232]\n",
      " [0.46651245]\n",
      " [0.87861638]\n",
      " [0.03788256]]\n"
     ]
    }
   ],
   "source": [
    "print(\"Given (5,3)Matrix turned into (3,5) :\")\n",
    "print(TempArray2.reshape(3,5))\n",
    "print(\"\\n\\nGiven (5,3)Matrix turned into (1,15) :\")\n",
    "print(TempArray2.reshape(1,15))\n",
    "print(\"\\n\\nGiven (5,3)Matrix turned into (15,1) :\")\n",
    "print(TempArray2.reshape(15,1))"
   ]
  },
  {
   "cell_type": "markdown",
   "metadata": {},
   "source": [
    "## Why Numpy? Why is it so famous? \n",
    "#### Numpy is very memory efficient. It is much faster than the default python list and tupples...\n",
    "### To demonstrate the Efficiency of the Numpy lets perform an experiment."
   ]
  },
  {
   "cell_type": "code",
   "execution_count": 15,
   "metadata": {},
   "outputs": [
    {
     "name": "stdout",
     "output_type": "stream",
     "text": [
      "30.2 ms ± 434 µs per loop (mean ± std. dev. of 7 runs, 10 loops each)\n"
     ]
    }
   ],
   "source": [
    "A = range(100000)    # range is builtin function in python. It starts form 0 to passed (value-1).\n",
    "%timeit [i**2 for i in A] # It simply performs square of the every element present in A. You can Find the Datatype of A using type() - function pass the A as parameter...\n",
    "# The output here will be the time taken to perform the operation...."
   ]
  },
  {
   "cell_type": "code",
   "execution_count": 16,
   "metadata": {},
   "outputs": [
    {
     "name": "stdout",
     "output_type": "stream",
     "text": [
      "69.4 µs ± 532 ns per loop (mean ± std. dev. of 7 runs, 10000 loops each)\n"
     ]
    }
   ],
   "source": [
    "A = np.arange(100000)\n",
    "%timeit A**2\n",
    "# The output here will be the time taken to perform the operation...."
   ]
  },
  {
   "cell_type": "code",
   "execution_count": 17,
   "metadata": {},
   "outputs": [
    {
     "name": "stdout",
     "output_type": "stream",
     "text": [
      "Memory consumption of Python List for 10000 elements : 280000\n",
      "Memory consumption of Numpy Array for 10000 elements : 40000\n"
     ]
    }
   ],
   "source": [
    "import sys  # Simple python module/library provides access to some variables used or maintained by the interpreter and to functions that interact strongly with the interpreter. It is always available.\n",
    "l = range(10000)\n",
    "print(\"Memory consumption of Python List for 10000 elements :\",sys.getsizeof(1)*len(l)) # Size of one element * no. of elements\n",
    "\n",
    "Array = np.arange(10000)\n",
    "print(\"Memory consumption of Numpy Array for 10000 elements :\",Array.size * Array.itemsize) # size and itemsize are two attributes for numpy arrays that gives of size of array times size of items in array...."
   ]
  },
  {
   "cell_type": "markdown",
   "metadata": {},
   "source": [
    "##### Comparing the above two outputs. Normal operation using default python function, time is in the order of milli seconds and micro seconds... But, by performing the same operation using numpy, time taken is in the order of micro seconds and in nano seconds.....\n",
    "#### The memory Consumption of NUMPY array is much lesser than that of normal python list.....\n",
    "\n",
    "#### IT IS CLEAR THAT THE NUMPY IS REALLY FAST AND MEMORY EFFICIENT"
   ]
  },
  {
   "cell_type": "markdown",
   "metadata": {},
   "source": [
    "<img src=\"data/whyNumpyFast.png\" width=800/>"
   ]
  },
  {
   "cell_type": "markdown",
   "metadata": {},
   "source": [
    "### Please Use the link and see the image as in GitHub the image placed above is not showing: https://i.pinimg.com/736x/4f/4e/c8/4f4ec839e33d9fc419a35624f0d59dec.jpg\n",
    "### The above image shows why the Numpy is fast....\n",
    "##### Numpy array directly stores the values of the array elements(Size of simply 4 bytes).... But the python list(Right Side in the Image) stores the address where the value is present(Size of 14 bytes).... \n"
   ]
  },
  {
   "cell_type": "markdown",
   "metadata": {},
   "source": [
    "## Quick Review of basic operations"
   ]
  },
  {
   "cell_type": "code",
   "execution_count": 18,
   "metadata": {},
   "outputs": [
    {
     "name": "stdout",
     "output_type": "stream",
     "text": [
      "Given Matrix + 1 : [ 1  2  3  4  5  6  7  8  9 10]\n",
      "Given Matrix - 4 : [-4 -3 -2 -1  0  1  2  3  4  5]\n",
      "Given Matrix * 3 : [ 0  3  6  9 12 15 18 21 24 27]\n",
      "Given Matrix **3 : [  0   1   8  27  64 125 216 343 512 729]\n",
      "----------------------------------------------------------------\n",
      "A1 Matrix * A2 Matrix : [  0.  12.  28.  48.  72. 100.]\n",
      "----------------------------------------------------------------\n",
      "Shape and Dimentions of Matrices A1 and A2 : (6,) (6,) 1 1\n",
      "Since both the arrays are of single dimentions... Their Matrix multiplication would be a Scaler : 260.0\n",
      "----------------------------------------------------------------\n",
      "Matix multiplication of Given Matrices A1_2Dim and A2_3Dim\n",
      "[[ 16.  18.  20.]\n",
      " [ 68.  78.  88.]\n",
      " [120. 138. 156.]]\n"
     ]
    }
   ],
   "source": [
    "X = np.arange(10)\n",
    "#1. Basic Operations\n",
    "print(\"Given Matrix + 1 :\",X + 1) # Every element added with 1\n",
    "print(\"Given Matrix - 4 :\",X - 4) # Every element Subtracted with 4\n",
    "print(\"Given Matrix * 3 :\",X * 3) # Every element Multiplied with 3\n",
    "print(\"Given Matrix **3 :\",X ** 3) # Every element powerd with 3\n",
    "print(\"----------------------------------------------------------------\")\n",
    "#2. Array Multiplication\n",
    "A1 = np.arange(6)\n",
    "A2 = np.linspace(10,20,6)\n",
    "print(\"A1 Matrix * A2 Matrix :\",A1*A2) # Element wise Multiplication of one Matrix to another\n",
    "print(\"----------------------------------------------------------------\")\n",
    "#3. Matrix Multiplication\n",
    "print(\"Shape and Dimentions of Matrices A1 and A2 :\",A1.shape,A2.shape,A1.ndim,A2.ndim)\n",
    "print(\"Since both the arrays are of single dimentions... Their Matrix multiplication would be a Scaler :\",A1.dot(A2)) # Matrix Multiplication is Done... \n",
    "print(\"----------------------------------------------------------------\")\n",
    "A1_2Dim = A1.reshape(3,2)\n",
    "A2_3Dim = A2.reshape(2,3)\n",
    "print(\"Matix multiplication of Given Matrices A1_2Dim and A2_3Dim\")\n",
    "print(A1_2Dim.dot(A2_3Dim))"
   ]
  },
  {
   "cell_type": "markdown",
   "metadata": {},
   "source": [
    "## Hope this session was helpful.... Thank you.\n",
    "##### Notebook Prepared By : V.PoornaChand\n",
    "https://www.linkedin.com/in/poorna-chand-902642177/"
   ]
  }
 ],
 "metadata": {
  "kernelspec": {
   "display_name": "Python 3",
   "language": "python",
   "name": "python3"
  },
  "language_info": {
   "codemirror_mode": {
    "name": "ipython",
    "version": 3
   },
   "file_extension": ".py",
   "mimetype": "text/x-python",
   "name": "python",
   "nbconvert_exporter": "python",
   "pygments_lexer": "ipython3",
   "version": "3.6.5"
  }
 },
 "nbformat": 4,
 "nbformat_minor": 2
}
